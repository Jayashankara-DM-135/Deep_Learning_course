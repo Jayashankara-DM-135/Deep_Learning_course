{
 "cells": [
  {
   "cell_type": "code",
   "execution_count": 1,
   "metadata": {},
   "outputs": [],
   "source": [
    "# GRADED FUNCTION: basic_sigmoid\n",
    "\n",
    "import math\n",
    "\n",
    "def basic_sigmoid(x):\n",
    "    \"\"\"\n",
    "    Compute sigmoid of x.\n",
    "\n",
    "    Arguments:\n",
    "    x -- A scalar\n",
    "\n",
    "    Return:\n",
    "    s -- sigmoid(x)\n",
    "    \"\"\"\n",
    "    \n",
    "    ### START CODE HERE ### (≈ 1 line of code)\n",
    "    s = 1.0/(1+math.exp(-x))\n",
    "    ### END CODE HERE ###\n",
    "    \n",
    "    return s"
   ]
  },
  {
   "cell_type": "code",
   "execution_count": 2,
   "metadata": {},
   "outputs": [
    {
     "data": {
      "text/plain": [
       "0.9525741268224334"
      ]
     },
     "execution_count": 2,
     "metadata": {},
     "output_type": "execute_result"
    }
   ],
   "source": [
    "basic_sigmoid(3)"
   ]
  },
  {
   "cell_type": "code",
   "execution_count": 3,
   "metadata": {},
   "outputs": [
    {
     "ename": "TypeError",
     "evalue": "bad operand type for unary -: 'list'",
     "output_type": "error",
     "traceback": [
      "\u001b[1;31m---------------------------------------------------------------------------\u001b[0m",
      "\u001b[1;31mTypeError\u001b[0m                                 Traceback (most recent call last)",
      "\u001b[1;32m<ipython-input-3-5f69f7e577e8>\u001b[0m in \u001b[0;36m<module>\u001b[1;34m\u001b[0m\n\u001b[0;32m      1\u001b[0m \u001b[0mx\u001b[0m \u001b[1;33m=\u001b[0m \u001b[1;33m[\u001b[0m\u001b[1;36m1\u001b[0m\u001b[1;33m,\u001b[0m \u001b[1;36m2\u001b[0m\u001b[1;33m,\u001b[0m \u001b[1;36m3\u001b[0m\u001b[1;33m]\u001b[0m\u001b[1;33m\u001b[0m\u001b[1;33m\u001b[0m\u001b[0m\n\u001b[1;32m----> 2\u001b[1;33m \u001b[0mbasic_sigmoid\u001b[0m\u001b[1;33m(\u001b[0m\u001b[0mx\u001b[0m\u001b[1;33m)\u001b[0m\u001b[1;33m\u001b[0m\u001b[1;33m\u001b[0m\u001b[0m\n\u001b[0m",
      "\u001b[1;32m<ipython-input-1-09c34ee25108>\u001b[0m in \u001b[0;36mbasic_sigmoid\u001b[1;34m(x)\u001b[0m\n\u001b[0;32m     15\u001b[0m \u001b[1;33m\u001b[0m\u001b[0m\n\u001b[0;32m     16\u001b[0m     \u001b[1;31m### START CODE HERE ### (≈ 1 line of code)\u001b[0m\u001b[1;33m\u001b[0m\u001b[1;33m\u001b[0m\u001b[1;33m\u001b[0m\u001b[0m\n\u001b[1;32m---> 17\u001b[1;33m     \u001b[0ms\u001b[0m \u001b[1;33m=\u001b[0m \u001b[1;36m1.0\u001b[0m\u001b[1;33m/\u001b[0m\u001b[1;33m(\u001b[0m\u001b[1;36m1\u001b[0m\u001b[1;33m+\u001b[0m\u001b[0mmath\u001b[0m\u001b[1;33m.\u001b[0m\u001b[0mexp\u001b[0m\u001b[1;33m(\u001b[0m\u001b[1;33m-\u001b[0m\u001b[0mx\u001b[0m\u001b[1;33m)\u001b[0m\u001b[1;33m)\u001b[0m\u001b[1;33m\u001b[0m\u001b[1;33m\u001b[0m\u001b[0m\n\u001b[0m\u001b[0;32m     18\u001b[0m     \u001b[1;31m### END CODE HERE ###\u001b[0m\u001b[1;33m\u001b[0m\u001b[1;33m\u001b[0m\u001b[1;33m\u001b[0m\u001b[0m\n\u001b[0;32m     19\u001b[0m \u001b[1;33m\u001b[0m\u001b[0m\n",
      "\u001b[1;31mTypeError\u001b[0m: bad operand type for unary -: 'list'"
     ]
    }
   ],
   "source": [
    "x = [1, 2, 3]\n",
    "basic_sigmoid(x)"
   ]
  },
  {
   "cell_type": "code",
   "execution_count": 8,
   "metadata": {},
   "outputs": [
    {
     "name": "stdout",
     "output_type": "stream",
     "text": [
      "[ 2.71828183  7.3890561  20.08553692]\n",
      "[ 2.71828183  7.3890561  20.08553692]\n"
     ]
    }
   ],
   "source": [
    "import numpy as np\n",
    "x = [1, 2, 3]\n",
    "print(np.exp(x))\n",
    "explist = np.exp(x)\n",
    "print(explist)"
   ]
  },
  {
   "cell_type": "code",
   "execution_count": 10,
   "metadata": {},
   "outputs": [
    {
     "name": "stdout",
     "output_type": "stream",
     "text": [
      "[4 5 6] (3,)\n"
     ]
    }
   ],
   "source": [
    "addlist = np.array(x) + 3\n",
    "print(addlist, np.shape(addlist))"
   ]
  },
  {
   "cell_type": "code",
   "execution_count": 15,
   "metadata": {},
   "outputs": [],
   "source": [
    "def sigmoid_deravatives(x):\n",
    "    s = 1.0/(1+np.exp(-x))\n",
    "    ds = s*(1-s)\n",
    "    return ds"
   ]
  },
  {
   "cell_type": "code",
   "execution_count": 16,
   "metadata": {},
   "outputs": [
    {
     "name": "stdout",
     "output_type": "stream",
     "text": [
      "[0.19661193 0.10499359 0.04517666]\n"
     ]
    }
   ],
   "source": [
    "x = [1, 2, 3]\n",
    "print(sigmoid_deravatives(np.array(x)))\n"
   ]
  },
  {
   "cell_type": "code",
   "execution_count": 30,
   "metadata": {},
   "outputs": [],
   "source": [
    "def image2vector(image):\n",
    "    v = image.reshape(image.shape[0]*image.shape[1].image.shape[2], 1)\n",
    "    return v"
   ]
  },
  {
   "cell_type": "code",
   "execution_count": 46,
   "metadata": {},
   "outputs": [
    {
     "name": "stdout",
     "output_type": "stream",
     "text": [
      "3\n",
      "(3,)\n",
      "6\n",
      "(2, 3)\n",
      "(3, 2, 3)\n",
      "[[ 1]\n",
      " [ 2]\n",
      " [ 3]\n",
      " [ 4]\n",
      " [ 5]\n",
      " [ 6]\n",
      " [ 7]\n",
      " [ 8]\n",
      " [ 9]\n",
      " [10]\n",
      " [11]\n",
      " [12]\n",
      " [13]\n",
      " [14]\n",
      " [15]\n",
      " [16]\n",
      " [17]\n",
      " [18]]\n"
     ]
    }
   ],
   "source": [
    "print(np.array([1, 2, 3]).size)\n",
    "print(np.array([1, 2, 3]).shape)\n",
    "print(np.array([[1, 2, 3], [4, 5, 6]]).size)\n",
    "print(np.array([[1, 2, 3], [4, 5, 6]]).shape)\n",
    "\n",
    "image = np.array(\n",
    "[[[1, 2, 3],\n",
    "  [4, 5, 6]],\n",
    " \n",
    "[[7, 8, 9],\n",
    "  [10, 11, 12]],\n",
    "    \n",
    " [[13, 14, 15],\n",
    " [16, 17, 18]]\n",
    "    \n",
    "])\n",
    "print(image.shape)\n",
    "print((image2vector(image)))"
   ]
  },
  {
   "cell_type": "code",
   "execution_count": 37,
   "metadata": {},
   "outputs": [],
   "source": [
    "# GRADED FUNCTION: image2vector\n",
    "def image2vector(image):\n",
    "    \"\"\"\n",
    "    Argument:\n",
    "    image -- a numpy array of shape (length, height, depth)\n",
    "    \n",
    "    Returns:\n",
    "    v -- a vector of shape (length*height*depth, 1)\n",
    "    \"\"\"\n",
    "    \n",
    "    ### START CODE HERE ### (≈ 1 line of code)\n",
    "    v = image.reshape((image.shape[0]*image.shape[1]*image.shape[2],1))\n",
    "    ### END CODE HERE ###\n",
    "    \n",
    "    return v"
   ]
  },
  {
   "cell_type": "code",
   "execution_count": 39,
   "metadata": {},
   "outputs": [
    {
     "name": "stdout",
     "output_type": "stream",
     "text": [
      "(3, 3, 2)\n",
      "image2vector(image) = [[0.67826139]\n",
      " [0.29380381]\n",
      " [0.90714982]\n",
      " [0.52835647]\n",
      " [0.4215251 ]\n",
      " [0.45017551]\n",
      " [0.92814219]\n",
      " [0.96677647]\n",
      " [0.85304703]\n",
      " [0.52351845]\n",
      " [0.19981397]\n",
      " [0.27417313]\n",
      " [0.60659855]\n",
      " [0.00533165]\n",
      " [0.10820313]\n",
      " [0.49978937]\n",
      " [0.34144279]\n",
      " [0.94630077]]\n"
     ]
    }
   ],
   "source": [
    "# This is a 3 by 3 by 2 array, typically images will be (num_px_x, num_px_y,3) where 3 represents the RGB values\n",
    "image = np.array([[[ 0.67826139,  0.29380381],\n",
    "        [ 0.90714982,  0.52835647],\n",
    "        [ 0.4215251 ,  0.45017551]],\n",
    "\n",
    "       [[ 0.92814219,  0.96677647],\n",
    "        [ 0.85304703,  0.52351845],\n",
    "        [ 0.19981397,  0.27417313]],\n",
    "\n",
    "       [[ 0.60659855,  0.00533165],\n",
    "        [ 0.10820313,  0.49978937],\n",
    "        [ 0.34144279,  0.94630077]]])\n",
    "print(image.shape)\n",
    "print (\"image2vector(image) = \" + str(image2vector(image)))"
   ]
  },
  {
   "cell_type": "code",
   "execution_count": 55,
   "metadata": {},
   "outputs": [],
   "source": [
    "def normalize(x):\n",
    "    x_norm = np.linalg.norm(x, ord=2, axis=1, keepdims=True)\n",
    "    print(x_norm)\n",
    "    print(x_norm.shape)\n",
    "    x = x/x_norm\n",
    "    print(x.shape)\n",
    "    return x"
   ]
  },
  {
   "cell_type": "code",
   "execution_count": 56,
   "metadata": {},
   "outputs": [
    {
     "name": "stdout",
     "output_type": "stream",
     "text": [
      "[[5.83095189]\n",
      " [4.58257569]]\n",
      "(2, 1)\n",
      "(2, 3)\n",
      "[[ 0.          0.51449576  0.85749293]\n",
      " [-0.21821789  0.43643578  0.87287156]]\n"
     ]
    }
   ],
   "source": [
    "x = np.array(([0, 3, 5],\n",
    "        [-1, 2, 4]))\n",
    "print(normalize(x))"
   ]
  },
  {
   "cell_type": "code",
   "execution_count": 66,
   "metadata": {},
   "outputs": [],
   "source": [
    "def softmax(x):\n",
    "    print(\"Shape of Given matrix {}\".format(x.shape))\n",
    "    x_exp = np.exp(x)\n",
    "    print(\"shape of exp matrix {}\".format(x_exp.shape))\n",
    "    print(\"Content of exp matrix : {}\".format(x_exp))\n",
    "    \n",
    "    x_sum = np.sum(x, axis=1, keepdims=True)\n",
    "    print(\"Shape of sum matrix {}\".format(x_sum.shape))\n",
    "    print(\"Sum matrix: {}\".format(x_sum))\n",
    "    \n",
    "    x = x_exp/x_sum\n",
    "    print(\"Shape of resulting matrix {}\".format(x))\n",
    "    return x\n"
   ]
  },
  {
   "cell_type": "code",
   "execution_count": 67,
   "metadata": {},
   "outputs": [
    {
     "name": "stdout",
     "output_type": "stream",
     "text": [
      "Shape of Given matrix (2, 4)\n",
      "shape of exp matrix (2, 4)\n",
      "Content of exp matrix : [[  20.08553692   54.59815003    7.3890561   403.42879349]\n",
      " [ 403.42879349    2.71828183  148.4131591  1096.63315843]]\n",
      "Shape of sum matrix (2, 1)\n",
      "Sum matrix: [[15]\n",
      " [19]]\n",
      "Shape of resulting matrix [[ 1.33903579  3.63987667  0.49260374 26.8952529 ]\n",
      " [21.23309439  0.14306746  7.8112189  57.71753465]]\n",
      "Resulting softmax: [[ 1.33903579  3.63987667  0.49260374 26.8952529 ]\n",
      " [21.23309439  0.14306746  7.8112189  57.71753465]]\n"
     ]
    }
   ],
   "source": [
    "x = np.array(([3, 4, 2, 6],\n",
    "             [6, 1, 5, 7]))\n",
    "print(\"Resulting softmax: {}\".format(softmax(x)))"
   ]
  },
  {
   "cell_type": "code",
   "execution_count": 85,
   "metadata": {},
   "outputs": [
    {
     "name": "stdout",
     "output_type": "stream",
     "text": [
      "Dot Product: 105 ==> Time taken for this 0.0 ms\n",
      "Outer product:\n",
      " [[ 2.  6.  8.  4. 12.]\n",
      " [ 5. 15. 20. 10. 30.]\n",
      " [ 7. 21. 28. 14. 42.]\n",
      " [ 3.  9. 12.  6. 18.]\n",
      " [ 9. 27. 36. 18. 54.]] \n",
      " ==> Time take for this 0.0 ms\n",
      "Element wise mutiplication : \n",
      " [ 2. 15. 28.  6. 54.] \n",
      " ===> Time taken for this 0.0 ms\n"
     ]
    }
   ],
   "source": [
    "import time\n",
    "\n",
    "x1 = [2, 5, 7, 3, 9]\n",
    "x2 = [1, 3, 4, 2, 6]\n",
    "\n",
    "#Dot product\n",
    "dot = 0\n",
    "tic = time.process_time()\n",
    "for i in range(len(x1)):\n",
    "    dot += x1[i] * x2[i]\n",
    "toc = time.process_time()\n",
    "\n",
    "print(\"Dot Product: {} ==> Time taken for this {} ms\".format(dot, str(1000*(toc-tic))))\n",
    "\n",
    "#outer prdouct\n",
    "tic = time.process_time()\n",
    "outer = np.zeros((len(x1), len(x2)))\n",
    "for i in range(len(x1)):\n",
    "    for j in range(len(x2)):\n",
    "        outer[i][j] = x1[i] * x2[j]\n",
    "toc = time.process_time()\n",
    "\n",
    "print(\"Outer product:\\n {} \\n ==> Time take for this {} ms\".format(outer, str(1000*(toc-tic))))\n",
    "\n",
    "\n",
    "#Element wise mututiplication.\n",
    "\n",
    "tic = time.process_time()\n",
    "mul = np.zeros(len(x1))\n",
    "for i in range(len(x1)):\n",
    "    mul[i] = x1[i]*x2[i]\n",
    "toc = time.process_time()\n",
    "\n",
    "print(\"Element wise mutiplication : \\n {} \\n ===> Time taken for this {} ms\".format(mul, str(1000*(toc-tic))))\n",
    "        \n"
   ]
  },
  {
   "cell_type": "code",
   "execution_count": 89,
   "metadata": {},
   "outputs": [
    {
     "name": "stdout",
     "output_type": "stream",
     "text": [
      "Dot product using vectorization : 105 ===> Time taken : 0.0 ms\n",
      "Outer matrix mutipliction using numpay :\n",
      " [[ 2  6  8  4 12]\n",
      " [ 5 15 20 10 30]\n",
      " [ 7 21 28 14 42]\n",
      " [ 3  9 12  6 18]\n",
      " [ 9 27 36 18 54]] \n",
      " time taken is 0.0 ms\n",
      "Element wise mutipliction using np.mutiply: \n",
      " [ 2 15 28  6 54] \n",
      " ==> Time taken 0.0\n"
     ]
    }
   ],
   "source": [
    "#Now use vectoration for above three multiplicon:\n",
    "tic = time.process_time()\n",
    "dot = np.dot(x1, x2)\n",
    "toc = time.process_time()\n",
    "print(\"Dot product using vectorization : {} ===> Time taken : {} ms\".format(dot, str(1000*(toc- tic))))\n",
    "\n",
    "\n",
    "tic = time.process_time()\n",
    "outer = np.outer(x1, x2)\n",
    "toc = time.process_time()\n",
    "print(\"Outer matrix mutipliction using numpay :\\n {} \\n time taken is {} ms\".format(outer, str(1000*(toc-tic))))\n",
    "\n",
    "\n",
    "tic = time.process_time()\n",
    "mul = np.multiply(x1, x2)\n",
    "toc = time.process_time()\n",
    "print(\"Element wise mutipliction using np.mutiply: \\n {} \\n ==> Time taken {}\".format(mul, str(1000*(toc-tic))))\n"
   ]
  },
  {
   "cell_type": "code",
   "execution_count": 95,
   "metadata": {},
   "outputs": [],
   "source": [
    "#Loss function:\n",
    "def L1_lossfunction(yhat, y):\n",
    "    diff = np.abs(yhat-y)\n",
    "    loss = np.sum(diff)\n",
    "    return loss\n",
    "def L2_lossfunction(yhat, y):\n",
    "    return np.sum(np.power((yhat-y), 2))\n",
    "    "
   ]
  },
  {
   "cell_type": "code",
   "execution_count": 96,
   "metadata": {},
   "outputs": [
    {
     "name": "stdout",
     "output_type": "stream",
     "text": [
      "L1 =1.1\n",
      "L2 =0.43\n"
     ]
    }
   ],
   "source": [
    "yhat = np.array([.9, 0.2, 0.1, 0.4, 0.9])\n",
    "y = np.array([1, 0, 0, 1, 1])\n",
    "print(\"L1 =\" + str(L1_lossfunction(yhat, y)))\n",
    "print(\"L2 =\" + str(L2_lossfunction(yhat, y)))"
   ]
  }
 ],
 "metadata": {
  "kernelspec": {
   "display_name": "Python 3",
   "language": "python",
   "name": "python3"
  },
  "language_info": {
   "codemirror_mode": {
    "name": "ipython",
    "version": 3
   },
   "file_extension": ".py",
   "mimetype": "text/x-python",
   "name": "python",
   "nbconvert_exporter": "python",
   "pygments_lexer": "ipython3",
   "version": "3.7.4"
  }
 },
 "nbformat": 4,
 "nbformat_minor": 2
}
