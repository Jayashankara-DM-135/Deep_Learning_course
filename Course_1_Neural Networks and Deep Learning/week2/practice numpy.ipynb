{
 "cells": [
  {
   "cell_type": "code",
   "execution_count": 1,
   "metadata": {},
   "outputs": [],
   "source": [
    "import numpy as np"
   ]
  },
  {
   "cell_type": "code",
   "execution_count": 2,
   "metadata": {},
   "outputs": [],
   "source": [
    "#calcuate sigmoid function\n",
    "\n",
    "def sigmoid(x):\n",
    "    return (1.0/(1+np.exp(-x)))\n"
   ]
  },
  {
   "cell_type": "code",
   "execution_count": 3,
   "metadata": {},
   "outputs": [
    {
     "name": "stdout",
     "output_type": "stream",
     "text": [
      "Sigmoid:\n",
      " [0.73105858 0.88079708 0.95257413] \n",
      " shape: (3,)\n"
     ]
    }
   ],
   "source": [
    "x= np.array([1, 2, 3])\n",
    "print(\"Sigmoid:\\n {} \\n shape: {}\".format(sigmoid(x), sigmoid(x).shape))"
   ]
  },
  {
   "cell_type": "code",
   "execution_count": 11,
   "metadata": {},
   "outputs": [],
   "source": [
    "#Deratvatives of sigmoid\n",
    "def sigmoid_deravaties(x):\n",
    "    s = (1.0/(1+np.exp(x)))\n",
    "    print(s, s.shape)\n",
    "    return (s *(1-s))"
   ]
  },
  {
   "cell_type": "code",
   "execution_count": 12,
   "metadata": {},
   "outputs": [
    {
     "name": "stdout",
     "output_type": "stream",
     "text": [
      "[0.26894142 0.11920292 0.04742587] (3,)\n",
      "[0.19661193 0.10499359 0.04517666]\n"
     ]
    }
   ],
   "source": [
    "print(sigmoid_deravaties(x))"
   ]
  },
  {
   "cell_type": "code",
   "execution_count": null,
   "metadata": {},
   "outputs": [],
   "source": [
    "#normalize\n",
    "def normalize(x):\n",
    "    \n",
    "    x_norm = np.linalg.norm(x, org=2, axis=1, keepdims=True)\n",
    "    return x/x_norm"
   ]
  },
  {
   "cell_type": "code",
   "execution_count": null,
   "metadata": {},
   "outputs": [],
   "source": [
    "x= np.array(([2, 3, 1], [7,3, 2]))\n",
    "print(x.shape)\n",
    "print(normalize(x))"
   ]
  },
  {
   "cell_type": "code",
   "execution_count": null,
   "metadata": {},
   "outputs": [],
   "source": [
    "def image2vector(image):\n",
    "    x = image.reshape(image.shape[0] * image.shape[1] * image.shape[2], 1)\n",
    "    return x"
   ]
  },
  {
   "cell_type": "code",
   "execution_count": null,
   "metadata": {},
   "outputs": [],
   "source": [
    "image = np.array([\n",
    "    [\n",
    "        [1, 2, 3],\n",
    "        [4, 5, 6]\n",
    "    ],\n",
    "    \n",
    "    [\n",
    "        [7, 8, 9]\n",
    "        [10, 11, 12]\n",
    "        \n",
    "    ]\n",
    "    [\n",
    "        []\n",
    "    ]\n",
    "])"
   ]
  }
 ],
 "metadata": {
  "kernelspec": {
   "display_name": "Python 3",
   "language": "python",
   "name": "python3"
  },
  "language_info": {
   "codemirror_mode": {
    "name": "ipython",
    "version": 3
   },
   "file_extension": ".py",
   "mimetype": "text/x-python",
   "name": "python",
   "nbconvert_exporter": "python",
   "pygments_lexer": "ipython3",
   "version": "3.7.4"
  }
 },
 "nbformat": 4,
 "nbformat_minor": 2
}
